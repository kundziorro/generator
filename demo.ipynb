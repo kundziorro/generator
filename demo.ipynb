{
 "cells": [
  {
   "cell_type": "code",
   "execution_count": 1,
   "source": [
    "from wallet import Wallet\n",
    "from app.requester import ExchangeRateRequester\n",
    "from app.visualization import Grapher\n",
    "from collections import namedtuple\n",
    "import pandas as pd\n",
    "import matplotlib.pyplot as plt\n",
    "\n"
   ],
   "outputs": [],
   "metadata": {}
  },
  {
   "cell_type": "code",
   "execution_count": 2,
   "source": [
    "wallet = Wallet()\n",
    "grapher = Grapher()"
   ],
   "outputs": [],
   "metadata": {}
  },
  {
   "cell_type": "code",
   "execution_count": 3,
   "source": [
    "Transaction = namedtuple(\"Transaction\", [\"date\", \"value\", \"rate\"])"
   ],
   "outputs": [],
   "metadata": {}
  },
  {
   "cell_type": "code",
   "execution_count": 4,
   "source": [
    "example_transactions = [\n",
    "            Transaction(date=\"2021-01-25\", value=1000, rate=4.48),\n",
    "            Transaction(date=\"2021-02-15\", value=-200, rate=4.53),\n",
    "            Transaction(date=\"2021-03-09\", value=-500, rate=4.57),\n",
    "            Transaction(date=\"2021-04-20\", value=-100, rate=4.54),\n",
    "            Transaction(date=\"2021-05-11\", value=400, rate=4.48),\n",
    "            Transaction(date=\"2021-06-22\", value=100, rate=4.45),\n",
    "            Transaction(date=\"2021-07-07\", value=500, rate=4.50)\n",
    "            ]"
   ],
   "outputs": [],
   "metadata": {}
  },
  {
   "cell_type": "code",
   "execution_count": 5,
   "source": [
    "wallet.transactions += example_transactions"
   ],
   "outputs": [],
   "metadata": {}
  },
  {
   "cell_type": "code",
   "execution_count": null,
   "source": [],
   "outputs": [],
   "metadata": {}
  },
  {
   "cell_type": "code",
   "execution_count": null,
   "source": [],
   "outputs": [],
   "metadata": {}
  },
  {
   "cell_type": "code",
   "execution_count": 6,
   "source": [
    "wallet.add_buy_transaction(\"2021-08-08\", 300, 4.6)\n",
    "wallet.add_sell_transaction(\"2021-08-13\", 100, 4.5)\n",
    "wallet.add_buy_transaction(\"2021-09-08\", 300, 4.6)"
   ],
   "outputs": [],
   "metadata": {}
  },
  {
   "cell_type": "code",
   "execution_count": 7,
   "source": [
    "wallet.show_transactions()"
   ],
   "outputs": [
    {
     "output_type": "stream",
     "name": "stdout",
     "text": [
      "In 2021-01-25 +1000 EUR by rate 4.48\n",
      "In 2021-02-15 -200 EUR by rate 4.53\n",
      "In 2021-03-09 -500 EUR by rate 4.57\n",
      "In 2021-04-20 -100 EUR by rate 4.54\n",
      "In 2021-05-11 +400 EUR by rate 4.48\n",
      "In 2021-06-22 +100 EUR by rate 4.45\n",
      "In 2021-07-07 +500 EUR by rate 4.5\n",
      "In 2021-08-08 +300 EUR by rate 4.6\n",
      "In 2021-08-13 -100 EUR by rate 4.5\n",
      "In 2021-09-08 +300 EUR by rate 4.6\n"
     ]
    }
   ],
   "metadata": {}
  },
  {
   "cell_type": "code",
   "execution_count": 8,
   "source": [
    "wallet.get_value_in_pln()"
   ],
   "outputs": [
    {
     "output_type": "execute_result",
     "data": {
      "text/plain": [
       "7668.87"
      ]
     },
     "metadata": {},
     "execution_count": 8
    }
   ],
   "metadata": {}
  },
  {
   "cell_type": "code",
   "execution_count": 9,
   "source": [
    "wallet.get_paid_value_in_pln()"
   ],
   "outputs": [
    {
     "output_type": "execute_result",
     "data": {
      "text/plain": [
       "7632.0"
      ]
     },
     "metadata": {},
     "execution_count": 9
    }
   ],
   "metadata": {}
  },
  {
   "cell_type": "code",
   "execution_count": 10,
   "source": [
    "wallet.get_profit_in_pln()"
   ],
   "outputs": [
    {
     "output_type": "execute_result",
     "data": {
      "text/plain": [
       "36.86999999999989"
      ]
     },
     "metadata": {},
     "execution_count": 10
    }
   ],
   "metadata": {}
  },
  {
   "cell_type": "code",
   "execution_count": 11,
   "source": [
    "wallet.transactions"
   ],
   "outputs": [
    {
     "output_type": "execute_result",
     "data": {
      "text/plain": [
       "[Transaction(date='2021-01-25', value=1000, rate=4.48),\n",
       " Transaction(date='2021-02-15', value=-200, rate=4.53),\n",
       " Transaction(date='2021-03-09', value=-500, rate=4.57),\n",
       " Transaction(date='2021-04-20', value=-100, rate=4.54),\n",
       " Transaction(date='2021-05-11', value=400, rate=4.48),\n",
       " Transaction(date='2021-06-22', value=100, rate=4.45),\n",
       " Transaction(date='2021-07-07', value=500, rate=4.5),\n",
       " Transaction(date='2021-08-08', value=300, rate=4.6),\n",
       " Transaction(date='2021-08-13', value=-100, rate=4.5),\n",
       " Transaction(date='2021-09-08', value=300, rate=4.6)]"
      ]
     },
     "metadata": {},
     "execution_count": 11
    }
   ],
   "metadata": {}
  },
  {
   "cell_type": "code",
   "execution_count": null,
   "source": [],
   "outputs": [],
   "metadata": {}
  },
  {
   "cell_type": "code",
   "execution_count": null,
   "source": [],
   "outputs": [],
   "metadata": {}
  },
  {
   "cell_type": "code",
   "execution_count": 12,
   "source": [
    "operations = grapher._create_operations_df(wallet.transactions)"
   ],
   "outputs": [],
   "metadata": {}
  },
  {
   "cell_type": "code",
   "execution_count": 13,
   "source": [
    "operations.head(30)"
   ],
   "outputs": [
    {
     "output_type": "execute_result",
     "data": {
      "text/html": [
       "<div>\n",
       "<style scoped>\n",
       "    .dataframe tbody tr th:only-of-type {\n",
       "        vertical-align: middle;\n",
       "    }\n",
       "\n",
       "    .dataframe tbody tr th {\n",
       "        vertical-align: top;\n",
       "    }\n",
       "\n",
       "    .dataframe thead th {\n",
       "        text-align: right;\n",
       "    }\n",
       "</style>\n",
       "<table border=\"1\" class=\"dataframe\">\n",
       "  <thead>\n",
       "    <tr style=\"text-align: right;\">\n",
       "      <th></th>\n",
       "      <th>date</th>\n",
       "      <th>rate</th>\n",
       "      <th>transaction[+/-]</th>\n",
       "      <th>transaction_rate</th>\n",
       "      <th>portfolio_value</th>\n",
       "      <th>value_pln_temp</th>\n",
       "      <th>value_pln_after_transaction</th>\n",
       "      <th>profit</th>\n",
       "    </tr>\n",
       "  </thead>\n",
       "  <tbody>\n",
       "    <tr>\n",
       "      <th>0</th>\n",
       "      <td>2021-01-25</td>\n",
       "      <td>4.4928</td>\n",
       "      <td>1000.0</td>\n",
       "      <td>4.48</td>\n",
       "      <td>1000.0</td>\n",
       "      <td>4492.80</td>\n",
       "      <td>4480.0</td>\n",
       "      <td>0.285714</td>\n",
       "    </tr>\n",
       "    <tr>\n",
       "      <th>1</th>\n",
       "      <td>2021-01-26</td>\n",
       "      <td>4.4941</td>\n",
       "      <td>0.0</td>\n",
       "      <td>4.53</td>\n",
       "      <td>1000.0</td>\n",
       "      <td>4494.10</td>\n",
       "      <td>4530.0</td>\n",
       "      <td>-0.792494</td>\n",
       "    </tr>\n",
       "    <tr>\n",
       "      <th>2</th>\n",
       "      <td>2021-01-27</td>\n",
       "      <td>4.5000</td>\n",
       "      <td>0.0</td>\n",
       "      <td>4.53</td>\n",
       "      <td>1000.0</td>\n",
       "      <td>4500.00</td>\n",
       "      <td>4530.0</td>\n",
       "      <td>-0.662252</td>\n",
       "    </tr>\n",
       "    <tr>\n",
       "      <th>3</th>\n",
       "      <td>2021-01-28</td>\n",
       "      <td>4.5047</td>\n",
       "      <td>0.0</td>\n",
       "      <td>4.53</td>\n",
       "      <td>1000.0</td>\n",
       "      <td>4504.70</td>\n",
       "      <td>4530.0</td>\n",
       "      <td>-0.558499</td>\n",
       "    </tr>\n",
       "    <tr>\n",
       "      <th>4</th>\n",
       "      <td>2021-01-29</td>\n",
       "      <td>4.5022</td>\n",
       "      <td>0.0</td>\n",
       "      <td>4.53</td>\n",
       "      <td>1000.0</td>\n",
       "      <td>4502.20</td>\n",
       "      <td>4530.0</td>\n",
       "      <td>-0.613687</td>\n",
       "    </tr>\n",
       "    <tr>\n",
       "      <th>5</th>\n",
       "      <td>2021-02-01</td>\n",
       "      <td>4.4821</td>\n",
       "      <td>0.0</td>\n",
       "      <td>4.53</td>\n",
       "      <td>1000.0</td>\n",
       "      <td>4482.10</td>\n",
       "      <td>4530.0</td>\n",
       "      <td>-1.057395</td>\n",
       "    </tr>\n",
       "    <tr>\n",
       "      <th>6</th>\n",
       "      <td>2021-02-02</td>\n",
       "      <td>4.4664</td>\n",
       "      <td>0.0</td>\n",
       "      <td>4.53</td>\n",
       "      <td>1000.0</td>\n",
       "      <td>4466.40</td>\n",
       "      <td>4530.0</td>\n",
       "      <td>-1.403974</td>\n",
       "    </tr>\n",
       "    <tr>\n",
       "      <th>7</th>\n",
       "      <td>2021-02-03</td>\n",
       "      <td>4.4307</td>\n",
       "      <td>0.0</td>\n",
       "      <td>4.53</td>\n",
       "      <td>1000.0</td>\n",
       "      <td>4430.70</td>\n",
       "      <td>4530.0</td>\n",
       "      <td>-2.192053</td>\n",
       "    </tr>\n",
       "    <tr>\n",
       "      <th>8</th>\n",
       "      <td>2021-02-04</td>\n",
       "      <td>4.4487</td>\n",
       "      <td>0.0</td>\n",
       "      <td>4.53</td>\n",
       "      <td>1000.0</td>\n",
       "      <td>4448.70</td>\n",
       "      <td>4530.0</td>\n",
       "      <td>-1.794702</td>\n",
       "    </tr>\n",
       "    <tr>\n",
       "      <th>9</th>\n",
       "      <td>2021-02-05</td>\n",
       "      <td>4.4520</td>\n",
       "      <td>0.0</td>\n",
       "      <td>4.53</td>\n",
       "      <td>1000.0</td>\n",
       "      <td>4452.00</td>\n",
       "      <td>4530.0</td>\n",
       "      <td>-1.721854</td>\n",
       "    </tr>\n",
       "    <tr>\n",
       "      <th>10</th>\n",
       "      <td>2021-02-08</td>\n",
       "      <td>4.4434</td>\n",
       "      <td>0.0</td>\n",
       "      <td>4.53</td>\n",
       "      <td>1000.0</td>\n",
       "      <td>4443.40</td>\n",
       "      <td>4530.0</td>\n",
       "      <td>-1.911700</td>\n",
       "    </tr>\n",
       "    <tr>\n",
       "      <th>11</th>\n",
       "      <td>2021-02-09</td>\n",
       "      <td>4.4328</td>\n",
       "      <td>0.0</td>\n",
       "      <td>4.53</td>\n",
       "      <td>1000.0</td>\n",
       "      <td>4432.80</td>\n",
       "      <td>4530.0</td>\n",
       "      <td>-2.145695</td>\n",
       "    </tr>\n",
       "    <tr>\n",
       "      <th>12</th>\n",
       "      <td>2021-02-10</td>\n",
       "      <td>4.4325</td>\n",
       "      <td>0.0</td>\n",
       "      <td>4.53</td>\n",
       "      <td>1000.0</td>\n",
       "      <td>4432.50</td>\n",
       "      <td>4530.0</td>\n",
       "      <td>-2.152318</td>\n",
       "    </tr>\n",
       "    <tr>\n",
       "      <th>13</th>\n",
       "      <td>2021-02-11</td>\n",
       "      <td>4.4354</td>\n",
       "      <td>0.0</td>\n",
       "      <td>4.53</td>\n",
       "      <td>1000.0</td>\n",
       "      <td>4435.40</td>\n",
       "      <td>4530.0</td>\n",
       "      <td>-2.088300</td>\n",
       "    </tr>\n",
       "    <tr>\n",
       "      <th>14</th>\n",
       "      <td>2021-02-12</td>\n",
       "      <td>4.4574</td>\n",
       "      <td>0.0</td>\n",
       "      <td>4.53</td>\n",
       "      <td>1000.0</td>\n",
       "      <td>4457.40</td>\n",
       "      <td>4530.0</td>\n",
       "      <td>-1.602649</td>\n",
       "    </tr>\n",
       "    <tr>\n",
       "      <th>15</th>\n",
       "      <td>2021-02-15</td>\n",
       "      <td>4.4538</td>\n",
       "      <td>-200.0</td>\n",
       "      <td>4.53</td>\n",
       "      <td>800.0</td>\n",
       "      <td>3563.04</td>\n",
       "      <td>3624.0</td>\n",
       "      <td>-1.682119</td>\n",
       "    </tr>\n",
       "    <tr>\n",
       "      <th>16</th>\n",
       "      <td>2021-02-16</td>\n",
       "      <td>4.4364</td>\n",
       "      <td>0.0</td>\n",
       "      <td>4.57</td>\n",
       "      <td>800.0</td>\n",
       "      <td>3549.12</td>\n",
       "      <td>3656.0</td>\n",
       "      <td>-2.923414</td>\n",
       "    </tr>\n",
       "    <tr>\n",
       "      <th>17</th>\n",
       "      <td>2021-02-17</td>\n",
       "      <td>4.4500</td>\n",
       "      <td>0.0</td>\n",
       "      <td>4.57</td>\n",
       "      <td>800.0</td>\n",
       "      <td>3560.00</td>\n",
       "      <td>3656.0</td>\n",
       "      <td>-2.625821</td>\n",
       "    </tr>\n",
       "    <tr>\n",
       "      <th>18</th>\n",
       "      <td>2021-02-18</td>\n",
       "      <td>4.4565</td>\n",
       "      <td>0.0</td>\n",
       "      <td>4.57</td>\n",
       "      <td>800.0</td>\n",
       "      <td>3565.20</td>\n",
       "      <td>3656.0</td>\n",
       "      <td>-2.483589</td>\n",
       "    </tr>\n",
       "    <tr>\n",
       "      <th>19</th>\n",
       "      <td>2021-02-19</td>\n",
       "      <td>4.4459</td>\n",
       "      <td>0.0</td>\n",
       "      <td>4.57</td>\n",
       "      <td>800.0</td>\n",
       "      <td>3556.72</td>\n",
       "      <td>3656.0</td>\n",
       "      <td>-2.715536</td>\n",
       "    </tr>\n",
       "    <tr>\n",
       "      <th>20</th>\n",
       "      <td>2021-02-22</td>\n",
       "      <td>4.4368</td>\n",
       "      <td>0.0</td>\n",
       "      <td>4.57</td>\n",
       "      <td>800.0</td>\n",
       "      <td>3549.44</td>\n",
       "      <td>3656.0</td>\n",
       "      <td>-2.914661</td>\n",
       "    </tr>\n",
       "    <tr>\n",
       "      <th>21</th>\n",
       "      <td>2021-02-23</td>\n",
       "      <td>4.4488</td>\n",
       "      <td>0.0</td>\n",
       "      <td>4.57</td>\n",
       "      <td>800.0</td>\n",
       "      <td>3559.04</td>\n",
       "      <td>3656.0</td>\n",
       "      <td>-2.652079</td>\n",
       "    </tr>\n",
       "    <tr>\n",
       "      <th>22</th>\n",
       "      <td>2021-02-24</td>\n",
       "      <td>4.4607</td>\n",
       "      <td>0.0</td>\n",
       "      <td>4.57</td>\n",
       "      <td>800.0</td>\n",
       "      <td>3568.56</td>\n",
       "      <td>3656.0</td>\n",
       "      <td>-2.391685</td>\n",
       "    </tr>\n",
       "    <tr>\n",
       "      <th>23</th>\n",
       "      <td>2021-02-25</td>\n",
       "      <td>4.4739</td>\n",
       "      <td>0.0</td>\n",
       "      <td>4.57</td>\n",
       "      <td>800.0</td>\n",
       "      <td>3579.12</td>\n",
       "      <td>3656.0</td>\n",
       "      <td>-2.102845</td>\n",
       "    </tr>\n",
       "    <tr>\n",
       "      <th>24</th>\n",
       "      <td>2021-02-26</td>\n",
       "      <td>4.4636</td>\n",
       "      <td>0.0</td>\n",
       "      <td>4.57</td>\n",
       "      <td>800.0</td>\n",
       "      <td>3570.88</td>\n",
       "      <td>3656.0</td>\n",
       "      <td>-2.328228</td>\n",
       "    </tr>\n",
       "    <tr>\n",
       "      <th>25</th>\n",
       "      <td>2021-03-01</td>\n",
       "      <td>4.4763</td>\n",
       "      <td>0.0</td>\n",
       "      <td>4.57</td>\n",
       "      <td>800.0</td>\n",
       "      <td>3581.04</td>\n",
       "      <td>3656.0</td>\n",
       "      <td>-2.050328</td>\n",
       "    </tr>\n",
       "    <tr>\n",
       "      <th>26</th>\n",
       "      <td>2021-03-02</td>\n",
       "      <td>4.4836</td>\n",
       "      <td>0.0</td>\n",
       "      <td>4.57</td>\n",
       "      <td>800.0</td>\n",
       "      <td>3586.88</td>\n",
       "      <td>3656.0</td>\n",
       "      <td>-1.890591</td>\n",
       "    </tr>\n",
       "    <tr>\n",
       "      <th>27</th>\n",
       "      <td>2021-03-03</td>\n",
       "      <td>4.4886</td>\n",
       "      <td>0.0</td>\n",
       "      <td>4.57</td>\n",
       "      <td>800.0</td>\n",
       "      <td>3590.88</td>\n",
       "      <td>3656.0</td>\n",
       "      <td>-1.781182</td>\n",
       "    </tr>\n",
       "    <tr>\n",
       "      <th>28</th>\n",
       "      <td>2021-03-04</td>\n",
       "      <td>4.4994</td>\n",
       "      <td>0.0</td>\n",
       "      <td>4.57</td>\n",
       "      <td>800.0</td>\n",
       "      <td>3599.52</td>\n",
       "      <td>3656.0</td>\n",
       "      <td>-1.544858</td>\n",
       "    </tr>\n",
       "    <tr>\n",
       "      <th>29</th>\n",
       "      <td>2021-03-05</td>\n",
       "      <td>4.5133</td>\n",
       "      <td>0.0</td>\n",
       "      <td>4.57</td>\n",
       "      <td>800.0</td>\n",
       "      <td>3610.64</td>\n",
       "      <td>3656.0</td>\n",
       "      <td>-1.240700</td>\n",
       "    </tr>\n",
       "  </tbody>\n",
       "</table>\n",
       "</div>"
      ],
      "text/plain": [
       "          date    rate  transaction[+/-]  transaction_rate  portfolio_value  \\\n",
       "0   2021-01-25  4.4928            1000.0              4.48           1000.0   \n",
       "1   2021-01-26  4.4941               0.0              4.53           1000.0   \n",
       "2   2021-01-27  4.5000               0.0              4.53           1000.0   \n",
       "3   2021-01-28  4.5047               0.0              4.53           1000.0   \n",
       "4   2021-01-29  4.5022               0.0              4.53           1000.0   \n",
       "5   2021-02-01  4.4821               0.0              4.53           1000.0   \n",
       "6   2021-02-02  4.4664               0.0              4.53           1000.0   \n",
       "7   2021-02-03  4.4307               0.0              4.53           1000.0   \n",
       "8   2021-02-04  4.4487               0.0              4.53           1000.0   \n",
       "9   2021-02-05  4.4520               0.0              4.53           1000.0   \n",
       "10  2021-02-08  4.4434               0.0              4.53           1000.0   \n",
       "11  2021-02-09  4.4328               0.0              4.53           1000.0   \n",
       "12  2021-02-10  4.4325               0.0              4.53           1000.0   \n",
       "13  2021-02-11  4.4354               0.0              4.53           1000.0   \n",
       "14  2021-02-12  4.4574               0.0              4.53           1000.0   \n",
       "15  2021-02-15  4.4538            -200.0              4.53            800.0   \n",
       "16  2021-02-16  4.4364               0.0              4.57            800.0   \n",
       "17  2021-02-17  4.4500               0.0              4.57            800.0   \n",
       "18  2021-02-18  4.4565               0.0              4.57            800.0   \n",
       "19  2021-02-19  4.4459               0.0              4.57            800.0   \n",
       "20  2021-02-22  4.4368               0.0              4.57            800.0   \n",
       "21  2021-02-23  4.4488               0.0              4.57            800.0   \n",
       "22  2021-02-24  4.4607               0.0              4.57            800.0   \n",
       "23  2021-02-25  4.4739               0.0              4.57            800.0   \n",
       "24  2021-02-26  4.4636               0.0              4.57            800.0   \n",
       "25  2021-03-01  4.4763               0.0              4.57            800.0   \n",
       "26  2021-03-02  4.4836               0.0              4.57            800.0   \n",
       "27  2021-03-03  4.4886               0.0              4.57            800.0   \n",
       "28  2021-03-04  4.4994               0.0              4.57            800.0   \n",
       "29  2021-03-05  4.5133               0.0              4.57            800.0   \n",
       "\n",
       "    value_pln_temp  value_pln_after_transaction    profit  \n",
       "0          4492.80                       4480.0  0.285714  \n",
       "1          4494.10                       4530.0 -0.792494  \n",
       "2          4500.00                       4530.0 -0.662252  \n",
       "3          4504.70                       4530.0 -0.558499  \n",
       "4          4502.20                       4530.0 -0.613687  \n",
       "5          4482.10                       4530.0 -1.057395  \n",
       "6          4466.40                       4530.0 -1.403974  \n",
       "7          4430.70                       4530.0 -2.192053  \n",
       "8          4448.70                       4530.0 -1.794702  \n",
       "9          4452.00                       4530.0 -1.721854  \n",
       "10         4443.40                       4530.0 -1.911700  \n",
       "11         4432.80                       4530.0 -2.145695  \n",
       "12         4432.50                       4530.0 -2.152318  \n",
       "13         4435.40                       4530.0 -2.088300  \n",
       "14         4457.40                       4530.0 -1.602649  \n",
       "15         3563.04                       3624.0 -1.682119  \n",
       "16         3549.12                       3656.0 -2.923414  \n",
       "17         3560.00                       3656.0 -2.625821  \n",
       "18         3565.20                       3656.0 -2.483589  \n",
       "19         3556.72                       3656.0 -2.715536  \n",
       "20         3549.44                       3656.0 -2.914661  \n",
       "21         3559.04                       3656.0 -2.652079  \n",
       "22         3568.56                       3656.0 -2.391685  \n",
       "23         3579.12                       3656.0 -2.102845  \n",
       "24         3570.88                       3656.0 -2.328228  \n",
       "25         3581.04                       3656.0 -2.050328  \n",
       "26         3586.88                       3656.0 -1.890591  \n",
       "27         3590.88                       3656.0 -1.781182  \n",
       "28         3599.52                       3656.0 -1.544858  \n",
       "29         3610.64                       3656.0 -1.240700  "
      ]
     },
     "metadata": {},
     "execution_count": 13
    }
   ],
   "metadata": {}
  },
  {
   "cell_type": "code",
   "execution_count": 14,
   "source": [
    "grapher.plot_historical_rates(operations)"
   ],
   "outputs": [
    {
     "output_type": "display_data",
     "data": {
      "image/png": "[encoded data removed]",
      "text/plain": [
       "<Figure size 432x288 with 1 Axes>"
      ]
     },
     "metadata": {
      "needs_background": "light"
     }
    }
   ],
   "metadata": {}
  },
  {
   "cell_type": "code",
   "execution_count": 15,
   "source": [
    "grapher.plot_profit(operations)"
   ],
   "outputs": [
    {
     "output_type": "display_data",
     "data": {
      "image/png": "[encoded data removed]",
      "text/plain": [
       "<Figure size 432x288 with 1 Axes>"
      ]
     },
     "metadata": {
      "needs_background": "light"
     }
    }
   ],
   "metadata": {}
  },
  {
   "cell_type": "code",
   "execution_count": 16,
   "source": [
    "grapher.plot_portfolio_value_pln(operations)"
   ],
   "outputs": [
    {
     "output_type": "display_data",
     "data": {
      "image/png": "[encoded data removed]",
      "text/plain": [
       "<Figure size 432x288 with 1 Axes>"
      ]
     },
     "metadata": {
      "needs_background": "light"
     }
    }
   ],
   "metadata": {}
  },
  {
   "cell_type": "code",
   "execution_count": null,
   "source": [],
   "outputs": [],
   "metadata": {}
  }
 ],
 "metadata": {
  "kernelspec": {
   "display_name": "Python 3",
   "language": "python",
   "name": "python3"
  },
  "language_info": {
   "codemirror_mode": {
    "name": "ipython",
    "version": 3
   },
   "file_extension": ".py",
   "mimetype": "text/x-python",
   "name": "python",
   "nbconvert_exporter": "python",
   "pygments_lexer": "ipython3",
   "version": "3.8.10"
  }
 },
 "nbformat": 4,
 "nbformat_minor": 5
}